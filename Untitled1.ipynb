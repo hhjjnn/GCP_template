{
 "cells": [
  {
   "cell_type": "code",
   "execution_count": 1,
   "metadata": {},
   "outputs": [],
   "source": [
    "import tensorflow as tf\n",
    "import tensorflow_datasets as tfds\n",
    "from google.cloud import storage\n",
    "import os\n",
    "import csv \n",
    "import pandas as pd\n",
    "import numpy as np"
   ]
  },
  {
   "cell_type": "markdown",
   "metadata": {},
   "source": [
    "# TFDS has imdb dataset embedded, but for illustration reason, we are not going to use it"
   ]
  },
  {
   "cell_type": "code",
   "execution_count": 23,
   "metadata": {},
   "outputs": [],
   "source": [
    "dataset, info = tfds.load('imdb_reviews/subwords8k', with_info=True,\n",
    "                          as_supervised=True)\n",
    "imdb_train_dataset, imdb_test_dataset = dataset['train'], dataset['test']"
   ]
  },
  {
   "cell_type": "code",
   "execution_count": 24,
   "metadata": {},
   "outputs": [
    {
     "data": {
      "text/plain": [
       "(TensorShape([None]), TensorShape([]))"
      ]
     },
     "execution_count": 24,
     "metadata": {},
     "output_type": "execute_result"
    }
   ],
   "source": [
    "imdb_train_dataset.output_shapes"
   ]
  },
  {
   "cell_type": "code",
   "execution_count": 21,
   "metadata": {},
   "outputs": [],
   "source": [
    "imdb_train_dataset = imdb_train_dataset.padded_batch(BATCH_SIZE, imdb_train_dataset.output_shapes)"
   ]
  },
  {
   "cell_type": "markdown",
   "metadata": {},
   "source": [
    "# Construct our own csv from imdb review"
   ]
  },
  {
   "cell_type": "code",
   "execution_count": 2,
   "metadata": {},
   "outputs": [],
   "source": [
    "LOCAL_TRAIN_POS_DIR = \"aclImdb/train/pos\"\n",
    "LOCAL_TRAIN_NEG_DIR = \"aclImdb/train/neg\"\n",
    "\n",
    "pos_sample_paths = [os.path.join(LOCAL_TRAIN_POS_DIR, _) for _ in os.listdir(LOCAL_TRAIN_POS_DIR)]\n",
    "neg_sample_paths = [os.path.join(LOCAL_TRAIN_NEG_DIR, _) for _ in os.listdir(LOCAL_TRAIN_NEG_DIR)]\n",
    "train_sample_paths = pos_sample_paths + neg_sample_paths"
   ]
  },
  {
   "cell_type": "code",
   "execution_count": 8,
   "metadata": {},
   "outputs": [],
   "source": [
    "LOCAL_TEST_POS_DIR = \"aclImdb/test/pos\"\n",
    "LOCAL_TEST_NEG_DIR = \"aclImdb/test/neg\"\n",
    "\n",
    "pos_sample_paths = [os.path.join(LOCAL_TEST_POS_DIR, _) for _ in os.listdir(LOCAL_TEST_POS_DIR)]\n",
    "neg_sample_paths = [os.path.join(LOCAL_TEST_NEG_DIR, _) for _ in os.listdir(LOCAL_TEST_NEG_DIR)]\n",
    "test_sample_paths = pos_sample_paths + neg_sample_paths"
   ]
  },
  {
   "cell_type": "code",
   "execution_count": 49,
   "metadata": {},
   "outputs": [],
   "source": [
    "# write all train samples to a csv as (text, label)\n",
    "\n",
    "file_write = open(\"train.csv\",\"w\")\n",
    "text_write = open(\"text_only.csv\", 'w')\n",
    "writer = csv.DictWriter(file_write, fieldnames=[\"text\",\"label\"])\n",
    "writer.writeheader()\n",
    "for path in train_sample_paths:\n",
    "    with open(path) as file_read:\n",
    "        text = file_read.read()\n",
    "        label = path.strip(\".txt\").split(\"_\")[-1]\n",
    "        \n",
    "    writer.writerow({\"text\":text,\"label\":label})\n",
    "    print(text, file=text_write)\n",
    "\n",
    "file_write.close()\n",
    "text_write.close()"
   ]
  },
  {
   "cell_type": "code",
   "execution_count": 9,
   "metadata": {},
   "outputs": [],
   "source": [
    "# write all test samples to a csv as (text, label)\n",
    "\n",
    "file_write = open(\"test.csv\",\"w\")\n",
    "\n",
    "writer = csv.DictWriter(file_write, fieldnames=[\"text\",\"label\"])\n",
    "writer.writeheader()\n",
    "for path in test_sample_paths:\n",
    "    with open(path) as file_read:\n",
    "        text = file_read.read()\n",
    "        label = path.strip(\".txt\").split(\"_\")[-1]\n",
    "        \n",
    "    writer.writerow({\"text\":text,\"label\":label})\n",
    "\n",
    "file_write.close()\n"
   ]
  },
  {
   "cell_type": "markdown",
   "metadata": {},
   "source": [
    "# Construct our own subword encoder from imdb data"
   ]
  },
  {
   "cell_type": "code",
   "execution_count": null,
   "metadata": {},
   "outputs": [],
   "source": [
    "# download data file from cloud storage\n",
    "client = storage.client.Client()\n",
    "bucket = client.bucket(\"test_34336\")\n",
    "\n",
    "train_blob = bucket.blob(\"train.csv\")\n",
    "train_blob.download_to_filename(\"train.csv\")\n",
    "\n",
    "text_blob = bucket.blob(\"text_only.csv\")\n",
    "text_blob.download_to_filename(\"text_only.csv\")\n",
    "\n",
    "test_blob = bucket.blob(\"test.csv\")\n",
    "test_blob.download_to_filename(\"test.csv\")"
   ]
  },
  {
   "cell_type": "code",
   "execution_count": 53,
   "metadata": {},
   "outputs": [],
   "source": [
    "# build subword encoder from corpus\n",
    "def corpus_generator():\n",
    "    file = open(\"text_only.csv\")\n",
    "    for row in file:\n",
    "        yield row\n",
    "\n",
    "encoder = tfds.features.text.SubwordTextEncoder.build_from_corpus(\n",
    "    corpus_generator(), target_vocab_size=10000)\n",
    "encoder.save_to_file(\"imdb.vocab\")"
   ]
  },
  {
   "cell_type": "code",
   "execution_count": 2,
   "metadata": {},
   "outputs": [],
   "source": [
    "# load subword encoder from file\n",
    "encoder = tfds.features.text.SubwordTextEncoder.load_from_file(\"imdb.vocab\")"
   ]
  },
  {
   "cell_type": "code",
   "execution_count": 3,
   "metadata": {},
   "outputs": [
    {
     "data": {
      "text/plain": [
       "[1644, 9808, 4483, 6760]"
      ]
     },
     "execution_count": 3,
     "metadata": {},
     "output_type": "execute_result"
    }
   ],
   "source": [
    "encoder.encode(\"Hi John!\")"
   ]
  },
  {
   "cell_type": "markdown",
   "metadata": {},
   "source": [
    "# Convert text to tokens using subword"
   ]
  },
  {
   "cell_type": "code",
   "execution_count": 4,
   "metadata": {},
   "outputs": [],
   "source": [
    "# read raw data\n",
    "train_df = pd.read_csv(\"train.csv\")\n",
    "test_df = pd.read_csv(\"test.csv\")\n",
    "# transofrm data using subword encoder\n",
    "train_df[\"text\"] = train_df[\"text\"].apply(lambda text: encoder.encode(text))\n",
    "train_df[\"label\"] = train_df[\"label\"].apply(lambda label: 0 if label <= 4 else 1)\n",
    "test_df[\"text\"] = test_df[\"text\"].apply(lambda text: encoder.encode(text))\n",
    "test_df[\"label\"] = test_df[\"label\"].apply(lambda label: 0 if label <= 4 else 1)\n",
    "\n",
    "train_dataset = [(tf.constant(row[0]), tf.constant(row[1])) for row in train_df.itertuples(index=False)]\n",
    "test_dataset = [(tf.constant(row[0]), tf.constant(row[1])) for row in test_df.itertuples(index=False)]"
   ]
  },
  {
   "cell_type": "code",
   "execution_count": 5,
   "metadata": {},
   "outputs": [],
   "source": [
    "# create dataset that will feed data\n",
    "def train_dataset_generator():\n",
    "    for data in train_dataset:\n",
    "        yield data\n",
    "def test_dataset_generator():\n",
    "    for data in test_dataset:\n",
    "        yield data\n",
    "        \n",
    "train_dataset = tf.data.Dataset.from_generator(train_dataset_generator, \n",
    "                                         (tf.int32, tf.int32), \n",
    "                                         (tf.TensorShape([None]), tf.TensorShape(())))\n",
    "test_dataset = tf.data.Dataset.from_generator(test_dataset_generator, \n",
    "                                         (tf.int32, tf.int32), \n",
    "                                         (tf.TensorShape([None]), tf.TensorShape(())))"
   ]
  },
  {
   "cell_type": "code",
   "execution_count": 6,
   "metadata": {},
   "outputs": [],
   "source": [
    "BUFFER_SIZE = 10000\n",
    "BATCH_SIZE = 64"
   ]
  },
  {
   "cell_type": "code",
   "execution_count": 7,
   "metadata": {},
   "outputs": [
    {
     "name": "stdout",
     "output_type": "stream",
     "text": [
      "WARNING:tensorflow:From <ipython-input-7-4282f34a245c>:3: DatasetV1.output_shapes (from tensorflow.python.data.ops.dataset_ops) is deprecated and will be removed in a future version.\n",
      "Instructions for updating:\n",
      "Use `tf.compat.v1.data.get_output_shapes(dataset)`.\n"
     ]
    }
   ],
   "source": [
    "# shuffle and pad dataset\n",
    "train_dataset = train_dataset.shuffle(BUFFER_SIZE)\n",
    "train_dataset = train_dataset.padded_batch(BATCH_SIZE, train_dataset.output_shapes)\n",
    "\n",
    "test_dataset = train_dataset.shuffle(BUFFER_SIZE)\n",
    "test_dataset = test_dataset.padded_batch(BATCH_SIZE, test_dataset.output_shapes)"
   ]
  },
  {
   "cell_type": "markdown",
   "metadata": {},
   "source": [
    "# build model"
   ]
  },
  {
   "cell_type": "code",
   "execution_count": 8,
   "metadata": {},
   "outputs": [],
   "source": [
    "model = tf.keras.Sequential([\n",
    "    tf.keras.layers.Embedding(encoder.vocab_size, 64),\n",
    "    tf.keras.layers.Bidirectional(tf.keras.layers.LSTM(64)),\n",
    "    tf.keras.layers.Dense(64, activation='relu'),\n",
    "    tf.keras.layers.Dense(1, activation='sigmoid')\n",
    "])\n",
    "model.compile(loss='binary_crossentropy',\n",
    "              optimizer=tf.keras.optimizers.Adam(1e-4),\n",
    "              metrics=['accuracy'])"
   ]
  },
  {
   "cell_type": "code",
   "execution_count": null,
   "metadata": {},
   "outputs": [
    {
     "name": "stdout",
     "output_type": "stream",
     "text": [
      "Epoch 1/10\n"
     ]
    }
   ],
   "source": [
    "history = model.fit(train_dataset, epochs=10,\n",
    "                    validation_data=test_dataset, \n",
    "                    validation_steps=30)"
   ]
  },
  {
   "cell_type": "code",
   "execution_count": null,
   "metadata": {},
   "outputs": [],
   "source": []
  }
 ],
 "metadata": {
  "kernelspec": {
   "display_name": "Python 3",
   "language": "python",
   "name": "python3"
  },
  "language_info": {
   "codemirror_mode": {
    "name": "ipython",
    "version": 3
   },
   "file_extension": ".py",
   "mimetype": "text/x-python",
   "name": "python",
   "nbconvert_exporter": "python",
   "pygments_lexer": "ipython3",
   "version": "3.6.7"
  }
 },
 "nbformat": 4,
 "nbformat_minor": 4
}
